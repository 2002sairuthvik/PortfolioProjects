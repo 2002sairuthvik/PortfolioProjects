{
 "cells": [
  {
   "cell_type": "code",
   "execution_count": 67,
   "id": "081cd808-3b8d-43c2-bc21-096f899e4078",
   "metadata": {},
   "outputs": [],
   "source": [
    "#import Libraries\n",
    "\n",
    "from bs4 import BeautifulSoup\n",
    "import requests\n",
    "import smtplib\n",
    "import time\n",
    "import datetime"
   ]
  },
  {
   "cell_type": "code",
   "execution_count": 142,
   "id": "be6f56dc-a3f8-4f56-8966-24f6193ff8b0",
   "metadata": {},
   "outputs": [
    {
     "name": "stdout",
     "output_type": "stream",
     "text": [
      "        Google Pixel 8 Pro - Unlocked Android Smartphone with Telephoto Lens and Super Actua Display - 24-Hour Battery - Porcelain - 128 GB       \n",
      "939.\n"
     ]
    }
   ],
   "source": [
    "#Connect to website\n",
    "\n",
    "\n",
    "\n",
    "URL = 'https://www.amazon.com/Google-Pixel-Pro-Smartphone-Telephoto/dp/B0CGTP3NSH/ref=sr_1_3?crid=U81RGD8GU42N&dib=eyJ2IjoiMSJ9.SjffWDIe0lEE_wvMHaAOvHsc5wpIK1Z6k1YXgLgLIXH0OEg0XYySOU-_rrAVX6GhMn0ZRgKSXeiaWXIrUs9nbUnGhaarwK69at48DorvtL21V0f39ytbWheRBI4iDvpqhcoNsddwwWoTJ8dORCzNQZoNsb5A6QW4vx_Mp4s7FMjh4OKiDlYGHhrXEoc4TXqY7YHxr17pB3QGsHODr5Mu9kwBlVVk9CBZrdClT3yQ0PU.e2R4xbkeVBREtpMlDM1aUnLnnElvngvq8dg2egVU7qk&dib_tag=se&keywords=pixel%2B8%2Bpro&qid=1724477020&sprefix=pi%2Caps%2C117&sr=8-3&th=1'\n",
    "\n",
    "headers = { \"User-Agent\": \"Mozilla/5.0 (Windows NT 10.0; Win64; x64) AppleWebKit/537.36 (KHTML, like Gecko) Chrome/127.0.0.0 Safari/537.36\"}\n",
    "\n",
    "# page = requests.get(URL, headers=headers)\n",
    "\n",
    "# soup1 = BeautifulSoup(page.content, \"html.parser\")\n",
    "\n",
    "# soup2 = BeautifulSoup(soup1.prettify(), \"html.parser\")\n",
    "\n",
    "# title = soup2.find(id='productTitle').get_text()\n",
    "\n",
    "# price = soup2.find(id='priceblock_ourprice').get_text()\n",
    "\n",
    "\n",
    "# print(title)\n",
    "# print(price)\n",
    "\n",
    "page = requests.get(URL, headers=headers)\n",
    "\n",
    "soup1 = BeautifulSoup(page.content, 'html.parser')\n",
    "\n",
    "#soup2 = BeautifulSoup(soup1.prettify(), \"html.parser\")\n",
    "\n",
    "title = soup1.find(id=\"productTitle\").get_text()\n",
    "\n",
    "price = soup1.find('span',{'class':'a-price-whole'}).get_text()\n",
    "\n",
    "print(title)\n",
    "\n",
    "print(price)\n",
    "\n"
   ]
  },
  {
   "cell_type": "code",
   "execution_count": 126,
   "id": "88b4011f-acee-450a-8cd5-b7d05a7c559c",
   "metadata": {},
   "outputs": [
    {
     "name": "stdout",
     "output_type": "stream",
     "text": [
      "939\n"
     ]
    }
   ],
   "source": [
    "price = price.strip()[:3]\n",
    "print(price)"
   ]
  },
  {
   "cell_type": "code",
   "execution_count": 127,
   "id": "32f68d6c-637f-4028-a2e5-00f598e88888",
   "metadata": {},
   "outputs": [
    {
     "name": "stdout",
     "output_type": "stream",
     "text": [
      "Google Pixel 8 Pro - Unlocked Android Smartphone with Telephoto Lens and Super Actua Display - 24-Hour Battery - Porcelain - 128 GB\n"
     ]
    }
   ],
   "source": [
    "title = title.strip()\n",
    "print(title)"
   ]
  },
  {
   "cell_type": "code",
   "execution_count": 146,
   "id": "b37b775a-4e79-4484-92e4-230f539b1628",
   "metadata": {},
   "outputs": [
    {
     "name": "stdout",
     "output_type": "stream",
     "text": [
      "2024-08-24\n"
     ]
    }
   ],
   "source": [
    "import datetime\n",
    "\n",
    "today = datetime.date.today()\n",
    "print(today)"
   ]
  },
  {
   "cell_type": "code",
   "execution_count": 147,
   "id": "b402e9aa-544d-405b-95b2-f915ef0887e0",
   "metadata": {},
   "outputs": [],
   "source": [
    "import csv\n",
    "header = ['Title', 'Price', 'Date']\n",
    "data = [title,price,today]\n",
    "\n",
    "with open ('AmazonWebScrapperDataset.csv', 'w', newline='',encoding = 'UTF8') as f:\n",
    "    writer = csv.writer(f)\n",
    "    writer.writerow(header)\n",
    "    writer.writerow(data)"
   ]
  },
  {
   "cell_type": "code",
   "execution_count": 152,
   "id": "ed44d62f-f325-40a8-92e6-c8e75cf66805",
   "metadata": {},
   "outputs": [
    {
     "data": {
      "text/html": [
       "<div>\n",
       "<style scoped>\n",
       "    .dataframe tbody tr th:only-of-type {\n",
       "        vertical-align: middle;\n",
       "    }\n",
       "\n",
       "    .dataframe tbody tr th {\n",
       "        vertical-align: top;\n",
       "    }\n",
       "\n",
       "    .dataframe thead th {\n",
       "        text-align: right;\n",
       "    }\n",
       "</style>\n",
       "<table border=\"1\" class=\"dataframe\">\n",
       "  <thead>\n",
       "    <tr style=\"text-align: right;\">\n",
       "      <th></th>\n",
       "      <th>Title</th>\n",
       "      <th>Price</th>\n",
       "      <th>Date</th>\n",
       "    </tr>\n",
       "  </thead>\n",
       "  <tbody>\n",
       "    <tr>\n",
       "      <th>0</th>\n",
       "      <td>Google Pixel 8 Pro - Unlocked Android ...</td>\n",
       "      <td>939.0</td>\n",
       "      <td>2024-08-24</td>\n",
       "    </tr>\n",
       "    <tr>\n",
       "      <th>1</th>\n",
       "      <td>Google Pixel 8 Pro - Unlocked Android ...</td>\n",
       "      <td>939.0</td>\n",
       "      <td>2024-08-24</td>\n",
       "    </tr>\n",
       "  </tbody>\n",
       "</table>\n",
       "</div>"
      ],
      "text/plain": [
       "                                               Title  Price        Date\n",
       "0          Google Pixel 8 Pro - Unlocked Android ...  939.0  2024-08-24\n",
       "1          Google Pixel 8 Pro - Unlocked Android ...  939.0  2024-08-24"
      ]
     },
     "execution_count": 152,
     "metadata": {},
     "output_type": "execute_result"
    }
   ],
   "source": [
    "import pandas as pd\n",
    "\n",
    "df = pd.read_csv('AmazonWebScrapperDataset.csv')\n",
    "df"
   ]
  },
  {
   "cell_type": "code",
   "execution_count": 151,
   "id": "13ef1220-1374-4ae3-ad18-1ff95bf67cd0",
   "metadata": {},
   "outputs": [],
   "source": [
    "#Now we are appending data to csv\n",
    "with open ('AmazonWebScrapperDataset.csv', 'a+', newline='',encoding = 'UTF8') as f:\n",
    "    writer = csv.writer(f)\n",
    "    writer.writerow(data)\n"
   ]
  },
  {
   "cell_type": "code",
   "execution_count": 223,
   "id": "ffc18507-96ab-457a-94c2-a393f344b49b",
   "metadata": {},
   "outputs": [],
   "source": [
    "def check_price():\n",
    "    URL = 'https://www.amazon.com/Google-Pixel-Pro-Smartphone-Telephoto/dp/B0CGTP3NSH/ref=sr_1_3?crid=U81RGD8GU42N&dib=eyJ2IjoiMSJ9.SjffWDIe0lEE_wvMHaAOvHsc5wpIK1Z6k1YXgLgLIXH0OEg0XYySOU-_rrAVX6GhMn0ZRgKSXeiaWXIrUs9nbUnGhaarwK69at48DorvtL21V0f39ytbWheRBI4iDvpqhcoNsddwwWoTJ8dORCzNQZoNsb5A6QW4vx_Mp4s7FMjh4OKiDlYGHhrXEoc4TXqY7YHxr17pB3QGsHODr5Mu9kwBlVVk9CBZrdClT3yQ0PU.e2R4xbkeVBREtpMlDM1aUnLnnElvngvq8dg2egVU7qk&dib_tag=se&keywords=pixel%2B8%2Bpro&qid=1724477020&sprefix=pi%2Caps%2C117&sr=8-3&th=1'\n",
    "\n",
    "    headers = { \"user-agent\":\"Mozilla/5.0 (Windows NT 10.0; Win64; x64) AppleWebKit/537.36 (KHTML, like Gecko) Chrome/127.0.0.0 Safari/537.36\"}\n",
    "\n",
    "    page = requests.get(URL, headers=headers)\n",
    "\n",
    "    soup1 = BeautifulSoup(page.content, 'html.parser')\n",
    "\n",
    "    #soup2 = BeautifulSoup(soup1.prettify(), \"html.parser\")\n",
    "\n",
    "    title = soup1.find(id=\"productTitle\").get_text()\n",
    "\n",
    "    price = soup1.find('span',{'class':'a-price-whole'}).get_text()\n",
    "\n",
    "    price = price.strip()[:3]\n",
    "\n",
    "    title = title.strip()\n",
    "\n",
    "    import datetime\n",
    "    \n",
    "    today = datetime.date.today() \n",
    "\n",
    "    import csv\n",
    "    header = ['Title', 'Price', 'Date']\n",
    "    data = [title,price,today]\n",
    "\n",
    "    with open ('AmazonWebScrapperDataset.csv', 'a+', newline='',encoding = 'UTF8') as f:\n",
    "        writer = csv.writer(f)\n",
    "        writer.writerow(data)\n"
   ]
  },
  {
   "cell_type": "code",
   "execution_count": 227,
   "id": "e9d3e8a8-faad-4727-a0a0-dd39856263d6",
   "metadata": {},
   "outputs": [],
   "source": [
    "# while(True):\n",
    "#     check_price()\n",
    "#     time.sleep(5)"
   ]
  },
  {
   "cell_type": "code",
   "execution_count": 225,
   "id": "8a2d8006-65b3-4caa-b03f-1cd3f6fa554f",
   "metadata": {},
   "outputs": [
    {
     "data": {
      "text/html": [
       "<div>\n",
       "<style scoped>\n",
       "    .dataframe tbody tr th:only-of-type {\n",
       "        vertical-align: middle;\n",
       "    }\n",
       "\n",
       "    .dataframe tbody tr th {\n",
       "        vertical-align: top;\n",
       "    }\n",
       "\n",
       "    .dataframe thead th {\n",
       "        text-align: right;\n",
       "    }\n",
       "</style>\n",
       "<table border=\"1\" class=\"dataframe\">\n",
       "  <thead>\n",
       "    <tr style=\"text-align: right;\">\n",
       "      <th></th>\n",
       "      <th>Title</th>\n",
       "      <th>Price</th>\n",
       "      <th>Date</th>\n",
       "    </tr>\n",
       "  </thead>\n",
       "  <tbody>\n",
       "    <tr>\n",
       "      <th>0</th>\n",
       "      <td>Google Pixel 8 Pro - Unlocked Android ...</td>\n",
       "      <td>939.0</td>\n",
       "      <td>2024-08-24</td>\n",
       "    </tr>\n",
       "    <tr>\n",
       "      <th>1</th>\n",
       "      <td>Google Pixel 8 Pro - Unlocked Android ...</td>\n",
       "      <td>939.0</td>\n",
       "      <td>2024-08-24</td>\n",
       "    </tr>\n",
       "    <tr>\n",
       "      <th>2</th>\n",
       "      <td>Google Pixel 8 Pro - Unlocked Android Smartpho...</td>\n",
       "      <td>939.0</td>\n",
       "      <td>2024-08-24</td>\n",
       "    </tr>\n",
       "    <tr>\n",
       "      <th>3</th>\n",
       "      <td>Google Pixel 8 Pro - Unlocked Android Smartpho...</td>\n",
       "      <td>939.0</td>\n",
       "      <td>2024-08-24</td>\n",
       "    </tr>\n",
       "    <tr>\n",
       "      <th>4</th>\n",
       "      <td>Google Pixel 8 Pro - Unlocked Android Smartpho...</td>\n",
       "      <td>939.0</td>\n",
       "      <td>2024-08-24</td>\n",
       "    </tr>\n",
       "    <tr>\n",
       "      <th>5</th>\n",
       "      <td>Google Pixel 8 Pro - Unlocked Android Smartpho...</td>\n",
       "      <td>939.0</td>\n",
       "      <td>2024-08-24</td>\n",
       "    </tr>\n",
       "  </tbody>\n",
       "</table>\n",
       "</div>"
      ],
      "text/plain": [
       "                                               Title  Price        Date\n",
       "0          Google Pixel 8 Pro - Unlocked Android ...  939.0  2024-08-24\n",
       "1          Google Pixel 8 Pro - Unlocked Android ...  939.0  2024-08-24\n",
       "2  Google Pixel 8 Pro - Unlocked Android Smartpho...  939.0  2024-08-24\n",
       "3  Google Pixel 8 Pro - Unlocked Android Smartpho...  939.0  2024-08-24\n",
       "4  Google Pixel 8 Pro - Unlocked Android Smartpho...  939.0  2024-08-24\n",
       "5  Google Pixel 8 Pro - Unlocked Android Smartpho...  939.0  2024-08-24"
      ]
     },
     "execution_count": 225,
     "metadata": {},
     "output_type": "execute_result"
    }
   ],
   "source": [
    "import pandas as pd\n",
    "\n",
    "df = pd.read_csv('AmazonWebScrapperDataset.csv')\n",
    "df"
   ]
  },
  {
   "cell_type": "code",
   "execution_count": 226,
   "id": "725a5768-522a-41db-ac59-4606d2a9bfdf",
   "metadata": {},
   "outputs": [
    {
     "name": "stdout",
     "output_type": "stream",
     "text": [
      "$11 Nike Dunk Low\n"
     ]
    }
   ],
   "source": [
    "# URL = \"https://www.nike.com/t/dunk-low-womens-shoes-ppQwKZ/HJ7673-100\"   \n",
    "# headers = {\"user-agent\":\"Mozilla/5.0 (Windows NT 10.0; Win64; x64) AppleWebKit/537.36 (KHTML, like Gecko) Chrome/127.0.0.0 Safari/537.36\"}\n",
    "\n",
    "# page = requests.get(URL, headers=headers)\n",
    "\n",
    "# soup1 = BeautifulSoup(page.content, 'html.parser')\n",
    "\n",
    "# #soup2 = BeautifulSoup(soup1.prettify(), \"html.parser\")\n",
    "\n",
    "# title = soup1.find(\"h1\", {\"id\":'pdp_product_title'}).get_text()\n",
    "\n",
    "# price = soup1.find('span', {'data-testid':'currentPrice-container'}).get_text()\n",
    "\n",
    "# price = price.strip()[:3]\n",
    "\n",
    "# title = title.strip()\n",
    "\n",
    "# print(price ,title)"
   ]
  },
  {
   "cell_type": "code",
   "execution_count": 229,
   "id": "d82ed464-5c2f-43b1-baf2-5d45962d79b8",
   "metadata": {},
   "outputs": [],
   "source": [
    "# If uou want to try sending yourself an email when a price hits below a certain level\n",
    "# out with this script\n",
    "\n",
    "def send_mail():\n",
    "    server = smtplib.SMTP_SSL('smtp.gmail.com',465)\n",
    "    server.ehlo()\n",
    "    #server.starttls()\n",
    "    server.ehlo()\n",
    "    server.login('msairuthvik@gmail.com','xxxxxxxxxxxxxx')\n",
    "    \n",
    "    subject = \"The Phone you want is below $900! Now is your chance to buy!\"\n",
    "    body = \"Sai, This is the moment we have been waiting for. Now is your chance to pick up the shirt of your dreams. Don't mess it up! Link here: https://www.amazon.com/Google-Pixel-Pro-Smartphone-Telephoto/dp/B0CGTP3NSH/ref=sr_1_3?crid=U81RGD8GU42N&dib=eyJ2IjoiMSJ9.SjffWDIe0lEE_wvMHaAOvHsc5wpIK1Z6k1YXgLgLIXH0OEg0XYySOU-_rrAVX6GhMn0ZRgKSXeiaWXIrUs9nbUnGhaarwK69at48DorvtL21V0f39ytbWheRBI4iDvpqhcoNsddwwWoTJ8dORCzNQZoNsb5A6QW4vx_Mp4s7FMjh4OKiDlYGHhrXEoc4TXqY7YHxr17pB3QGsHODr5Mu9kwBlVVk9CBZrdClT3yQ0PU.e2R4xbkeVBREtpMlDM1aUnLnnElvngvq8dg2egVU7qk&dib_tag=se&keywords=pixel%2B8%2Bpro&qid=1724477020&sprefix=pi%2Caps%2C117&sr=8-3&th=1\"\n",
    "   \n",
    "    msg = f\"Subject: {subject}\\n\\n{body}\"\n",
    "    \n",
    "    server.sendmail(\n",
    "        'msairuthvik@gmail.com',\n",
    "        msg\n",
    "     \n",
    "    )"
   ]
  },
  {
   "cell_type": "code",
   "execution_count": null,
   "id": "e8c938e3-a1ea-4802-a3b8-5e2f012bb73f",
   "metadata": {},
   "outputs": [],
   "source": []
  }
 ],
 "metadata": {
  "kernelspec": {
   "display_name": "Python 3",
   "language": "python",
   "name": "python3"
  },
  "language_info": {
   "codemirror_mode": {
    "name": "ipython",
    "version": 3
   },
   "file_extension": ".py",
   "mimetype": "text/x-python",
   "name": "python",
   "nbconvert_exporter": "python",
   "pygments_lexer": "ipython3",
   "version": "3.11.4"
  }
 },
 "nbformat": 4,
 "nbformat_minor": 5
}
